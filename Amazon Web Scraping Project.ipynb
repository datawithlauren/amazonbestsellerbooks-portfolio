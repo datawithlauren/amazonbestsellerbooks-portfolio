{
 "cells": [
  {
   "cell_type": "code",
   "execution_count": 1,
   "id": "d429a857",
   "metadata": {},
   "outputs": [],
   "source": [
    "# import libraries\n",
    "\n",
    "from bs4 import BeautifulSoup\n",
    "import requests\n",
    "import smtplib\n",
    "import time\n",
    "import datetime"
   ]
  },
  {
   "cell_type": "code",
   "execution_count": 2,
   "id": "4ef6bab1",
   "metadata": {},
   "outputs": [],
   "source": [
    "# connect to website (best-sellers in books)\n",
    "\n",
    "URL = 'https://www.amazon.com/best-sellers-books-Amazon/zgbs/books'\n",
    "\n",
    "headers = {\"User-Agent\": \"Mozilla/5.0 (Windows NT 10.0; Win64; x64) AppleWebKit/537.36 (KHTML, like Gecko) Chrome/78.0.3904.108 Safari/537.36\", \"Accept-Encoding\":\"gzip, deflate\", \"Accept\":\"text/html,application/xhtml+xml,application/xml;q=0.9,*/*;q=0.8\", \"DNT\":\"1\",\"Connection\":\"close\", \"Upgrade-Insecure-Requests\":\"1\"}\n",
    "\n",
    "page = requests.get(URL, headers=headers)\n",
    "\n",
    "\n",
    "\n",
    "# pull data from website\n",
    "\n",
    "soup1 = BeautifulSoup(page.content, 'html.parser')\n",
    "\n",
    "soup2 = BeautifulSoup(soup1.prettify(), 'html.parser')\n",
    "\n",
    "\n",
    "\n",
    "# extract all books\n",
    "\n",
    "books = soup2.find_all(id=\"gridItemRoot\")\n",
    "\n",
    "book = books[-1]"
   ]
  },
  {
   "cell_type": "code",
   "execution_count": 3,
   "id": "c974c44e",
   "metadata": {},
   "outputs": [
    {
     "name": "stdout",
     "output_type": "stream",
     "text": [
      "30\n"
     ]
    }
   ],
   "source": [
    "# extract ranks of books\n",
    "\n",
    "rank = book.find('span', class_='zg-bdg-text').get_text()\n",
    "\n",
    "\n",
    "# remove hashtag from rank\n",
    "\n",
    "rank = rank.strip()[1:]\n",
    "\n",
    "\n",
    "\n",
    "print(rank)"
   ]
  },
  {
   "cell_type": "code",
   "execution_count": 4,
   "id": "12c5f83f",
   "metadata": {},
   "outputs": [],
   "source": [
    "# extracting information of children node from parent node\n",
    "\n",
    "children = book.find('div', class_='zg-grid-general-faceout').div"
   ]
  },
  {
   "cell_type": "code",
   "execution_count": 5,
   "id": "4f72ccf0",
   "metadata": {},
   "outputs": [
    {
     "name": "stdout",
     "output_type": "stream",
     "text": [
      "It's Not Summer Without You\n"
     ]
    }
   ],
   "source": [
    "# extract title of books\n",
    "\n",
    "title = children.contents[3].get_text()\n",
    "\n",
    "\n",
    "# remove leading and trailing spaces\n",
    "\n",
    "title = title.strip()\n",
    "\n",
    "\n",
    "\n",
    "print(title)"
   ]
  },
  {
   "cell_type": "code",
   "execution_count": 6,
   "id": "0cbebf23",
   "metadata": {},
   "outputs": [
    {
     "name": "stdout",
     "output_type": "stream",
     "text": [
      "Jenny Han\n"
     ]
    }
   ],
   "source": [
    "# extract authors of books\n",
    "\n",
    "author = children.contents[5].get_text()\n",
    "\n",
    "# remove leading and trailing spaces\n",
    "\n",
    "author = author.strip()\n",
    "\n",
    "\n",
    "\n",
    "print(author)"
   ]
  },
  {
   "cell_type": "code",
   "execution_count": 7,
   "id": "e5558777",
   "metadata": {},
   "outputs": [
    {
     "name": "stdout",
     "output_type": "stream",
     "text": [
      "55 offers from $4.99\n"
     ]
    }
   ],
   "source": [
    "# extract prices of books\n",
    "\n",
    "price = children.contents[-2].get_text()\n",
    "\n",
    "\n",
    "# unlike the other attributes, another expression is used to remove multple spaces in the string\n",
    "\n",
    "price = \" \".join(price.split())\n",
    "\n",
    "\n",
    "\n",
    "print(price)"
   ]
  },
  {
   "cell_type": "code",
   "execution_count": 8,
   "id": "7ed61132",
   "metadata": {},
   "outputs": [
    {
     "name": "stdout",
     "output_type": "stream",
     "text": [
      "2022-08-11\n"
     ]
    }
   ],
   "source": [
    "# create timestamp for output to track when data was collected\n",
    "\n",
    "import datetime\n",
    "\n",
    "today = datetime.date.today()\n",
    "\n",
    "print(today)"
   ]
  },
  {
   "cell_type": "code",
   "execution_count": null,
   "id": "6230d489",
   "metadata": {},
   "outputs": [],
   "source": []
  },
  {
   "cell_type": "code",
   "execution_count": 9,
   "id": "005c6c43",
   "metadata": {
    "scrolled": true
   },
   "outputs": [],
   "source": [
    "# create csv file and write headers and data into file\n",
    "\n",
    "import csv\n",
    "\n",
    "header = ['Rank', 'Title', 'Author', 'Price', 'Date']\n",
    "data = [rank, title, author, price, today]\n",
    "\n",
    "\n",
    "with open('AmazonBestSellers_Books.csv', 'w', encoding= 'UTF8', newline='') as f:\n",
    "    writer = csv.writer(f)\n",
    "    writer.writerow(header)\n",
    "    writer.writerow(data)"
   ]
  },
  {
   "cell_type": "code",
   "execution_count": 10,
   "id": "2973b349",
   "metadata": {},
   "outputs": [
    {
     "name": "stdout",
     "output_type": "stream",
     "text": [
      "   Rank                        Title     Author                 Price  \\\n",
      "0    30  It's Not Summer Without You  Jenny Han  55 offers from $4.99   \n",
      "\n",
      "         Date  \n",
      "0  2022-08-11  \n"
     ]
    }
   ],
   "source": [
    "import pandas as pd\n",
    "\n",
    "df = pd.read_csv (r\"C:\\Users\\lkhoo\\AmazonBestSellers_Books.csv\")\n",
    "\n",
    "print(df)"
   ]
  },
  {
   "cell_type": "code",
   "execution_count": null,
   "id": "12eb033b",
   "metadata": {},
   "outputs": [],
   "source": []
  },
  {
   "cell_type": "code",
   "execution_count": 11,
   "id": "b9f8ceae",
   "metadata": {},
   "outputs": [],
   "source": [
    "# appending data to csv file\n",
    "\n",
    "with open('AmazonBestSellers_Books.csv', 'a+', encoding= 'UTF8', newline='') as f:\n",
    "    writer = csv.writer(f)\n",
    "    writer.writerow(data)"
   ]
  },
  {
   "cell_type": "code",
   "execution_count": 12,
   "id": "944fd87c",
   "metadata": {},
   "outputs": [],
   "source": [
    "# combine all of the code into one function\n",
    "\n",
    "def check_price():\n",
    "    URL = 'https://www.amazon.com/best-sellers-books-Amazon/zgbs/books'\n",
    "\n",
    "    headers = {\"User-Agent\": \"Mozilla/5.0 (Windows NT 10.0; Win64; x64) AppleWebKit/537.36 (KHTML, like Gecko) Chrome/78.0.3904.108 Safari/537.36\", \"Accept-Encoding\":\"gzip, deflate\", \"Accept\":\"text/html,application/xhtml+xml,application/xml;q=0.9,*/*;q=0.8\", \"DNT\":\"1\",\"Connection\":\"close\", \"Upgrade-Insecure-Requests\":\"1\"}\n",
    "\n",
    "    page = requests.get(URL, headers=headers)\n",
    "\n",
    "    soup1 = BeautifulSoup(page.content, 'html.parser')\n",
    "\n",
    "    soup2 = BeautifulSoup(soup1.prettify(), 'html.parser')\n",
    "\n",
    "    books = soup2.find_all(id=\"gridItemRoot\")\n",
    "\n",
    "    for book in books:\n",
    "        rank = book.find('span', class_='zg-bdg-text').get_text()\n",
    "    \n",
    "        children = book.find('div', class_='zg-grid-general-faceout').div\n",
    "    \n",
    "        title = children.contents[3].get_text()\n",
    "        author = children.contents[5].get_text()\n",
    "        price = children.contents[-2].get_text()\n",
    "        \n",
    "        rank = rank.strip()[1:]\n",
    "        title = title.strip()\n",
    "        author = author.strip()\n",
    "        price = \" \".join(price.split())\n",
    "            \n",
    "    import datetime\n",
    "\n",
    "    today = datetime.date.today()\n",
    "    \n",
    "    import csv\n",
    "\n",
    "    header = ['Rank', 'Title', 'Author', 'Price', 'Date']\n",
    "    data = [rank, title, author, price, today]\n",
    "    \n",
    "    with open('AmazonBestSellers_Books.csv', 'a+', encoding= 'UTF8', newline='') as f:\n",
    "        writer = csv.writer(f)\n",
    "        writer.writerow(data)\n",
    "    "
   ]
  },
  {
   "cell_type": "code",
   "execution_count": null,
   "id": "2a667530",
   "metadata": {},
   "outputs": [],
   "source": [
    "# run check_price after a set time and input data into CSV file\n",
    "\n",
    "# automate price checker everyday \n",
    "\n",
    "while(True):\n",
    "    check_price()\n",
    "    time.sleep(86400)\n"
   ]
  },
  {
   "cell_type": "code",
   "execution_count": null,
   "id": "88106849",
   "metadata": {},
   "outputs": [],
   "source": [
    "import pandas as pd\n",
    "\n",
    "df = pd.read_csv (r\"C:\\Users\\lkhoo\\AmazonBestSellers_Books.csv\")\n",
    "\n",
    "print(df)"
   ]
  },
  {
   "cell_type": "code",
   "execution_count": null,
   "id": "4972c732",
   "metadata": {},
   "outputs": [],
   "source": []
  }
 ],
 "metadata": {
  "kernelspec": {
   "display_name": "Python 3 (ipykernel)",
   "language": "python",
   "name": "python3"
  },
  "language_info": {
   "codemirror_mode": {
    "name": "ipython",
    "version": 3
   },
   "file_extension": ".py",
   "mimetype": "text/x-python",
   "name": "python",
   "nbconvert_exporter": "python",
   "pygments_lexer": "ipython3",
   "version": "3.9.12"
  }
 },
 "nbformat": 4,
 "nbformat_minor": 5
}
